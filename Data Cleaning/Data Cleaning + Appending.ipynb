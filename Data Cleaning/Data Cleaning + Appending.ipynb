{
 "cells": [
  {
   "cell_type": "code",
   "execution_count": 1,
   "metadata": {},
   "outputs": [],
   "source": [
    "import pandas as pd\n",
    "import numpy as np"
   ]
  },
  {
   "cell_type": "code",
   "execution_count": 28,
   "metadata": {},
   "outputs": [],
   "source": [
    "# Remove all rows with NaN\n",
    "df = pd.read_csv('Building_Permits.csv', low_memory = False)\n",
    "df.dropna(inplace = True)"
   ]
  },
  {
   "cell_type": "code",
   "execution_count": 29,
   "metadata": {},
   "outputs": [],
   "source": [
    "# Column specific\n",
    "df['Proposed Construction Type'].dropna(inplace = True)"
   ]
  },
  {
   "cell_type": "code",
   "execution_count": 30,
   "metadata": {},
   "outputs": [],
   "source": [
    "# Impute with Mean or Median\n",
    "# Note:\n",
    "# Does not factor correlation between features\n",
    "# Does not work with categorical features\n",
    "df = pd.read_csv('Building_Permits.csv', low_memory = False)\n",
    "df.fillna(df.mean(numeric_only = True), inplace = True)"
   ]
  },
  {
   "cell_type": "code",
   "execution_count": 31,
   "metadata": {},
   "outputs": [],
   "source": [
    "# Column specific\n",
    "df['Proposed Construction Type'].fillna((df['Proposed Construction Type'].mean()), inplace = True)"
   ]
  },
  {
   "cell_type": "code",
   "execution_count": 33,
   "metadata": {},
   "outputs": [],
   "source": [
    "# Replace df.mean with df.median for median"
   ]
  },
  {
   "cell_type": "code",
   "execution_count": 37,
   "metadata": {},
   "outputs": [],
   "source": [
    "# Impute with Most-Frequent value\n",
    "# Note:\n",
    "# Works with categorical features\n",
    "# Does not factor correlation between features\n",
    "# Will introduce bias\n",
    "df = pd.read_csv('Building_Permits.csv', low_memory = False)\n",
    "df.fillna(df.mode(numeric_only = True).iloc[0], inplace = True)"
   ]
  },
  {
   "cell_type": "code",
   "execution_count": 60,
   "metadata": {},
   "outputs": [],
   "source": [
    "# Column specific\n",
    "df['Proposed Construction Type'].fillna(df['Proposed Construction Type'].value_counts().index[0], inplace = True)"
   ]
  },
  {
   "cell_type": "code",
   "execution_count": 2,
   "metadata": {},
   "outputs": [],
   "source": [
    "# Impute with K-NN\n",
    "# Note:\n",
    "# More accurate than mean/median/mode\n",
    "# Computationally expensive in time and space\n",
    "# Sensitive to outliers\n",
    "from sklearn.impute import KNNImputer\n",
    "\n",
    "df = pd.read_csv('Building_Permits.csv', low_memory = False)\n",
    "df = df[:10000] # 100,000 seems to be too much\n",
    "# df[df.select_dtypes([np.number]).columns] # All numeric columns\n",
    "imputer = KNNImputer(n_neighbors=5, weights='uniform', metric='nan_euclidean', copy=True, add_indicator=False)\n",
    "imputed_df = imputer.fit_transform(df[df.select_dtypes([np.number]).columns])\n",
    "df[df.select_dtypes([np.number]).columns] = imputed_df"
   ]
  },
  {
   "cell_type": "code",
   "execution_count": 2,
   "metadata": {},
   "outputs": [
    {
     "name": "stderr",
     "output_type": "stream",
     "text": [
      "C:\\ProgramData\\Anaconda3\\lib\\site-packages\\impyute\\util\\preprocess.py:52: FutureWarning: Method .as_matrix will be removed in a future version. Use .values instead.\n",
      "  args[0] = args[0].as_matrix()\n"
     ]
    }
   ],
   "source": [
    "# Multi-Imputation with Chained-Equation\n",
    "# Note:\n",
    "# Longer than KNN\n",
    "# Handles uncertainty better\n",
    "from impyute.imputation.cs import mice\n",
    "\n",
    "df = pd.read_csv('Building_Permits.csv', low_memory = False)\n",
    "df = df[:1000] # 10,000 seems to be too much\n",
    "imputed_df = mice(df[df.select_dtypes([np.number]).columns])\n",
    "df[df.select_dtypes([np.number]).columns] = imputed_df"
   ]
  }
 ],
 "metadata": {
  "kernelspec": {
   "display_name": "Python 3 (ipykernel)",
   "language": "python",
   "name": "python3"
  },
  "language_info": {
   "codemirror_mode": {
    "name": "ipython",
    "version": 3
   },
   "file_extension": ".py",
   "mimetype": "text/x-python",
   "name": "python",
   "nbconvert_exporter": "python",
   "pygments_lexer": "ipython3",
   "version": "3.8.10"
  }
 },
 "nbformat": 4,
 "nbformat_minor": 2
}
